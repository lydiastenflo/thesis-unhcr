{
  "nbformat": 4,
  "nbformat_minor": 0,
  "metadata": {
    "colab": {
      "provenance": []
    },
    "kernelspec": {
      "name": "python3",
      "display_name": "Python 3"
    },
    "language_info": {
      "name": "python"
    }
  },
  "cells": [
    {
      "cell_type": "code",
      "source": [
        "from google.colab import drive\n",
        "drive.mount('/content/drive')"
      ],
      "metadata": {
        "id": "On1n9RlfRJSe",
        "colab": {
          "base_uri": "https://localhost:8080/"
        },
        "outputId": "58973e7b-2c75-4fde-f3f7-3faf88722cb4"
      },
      "execution_count": null,
      "outputs": [
        {
          "output_type": "stream",
          "name": "stdout",
          "text": [
            "Mounted at /content/drive\n"
          ]
        }
      ]
    },
    {
      "cell_type": "code",
      "source": [
        "import pandas as pd\n",
        "import numpy as np\n",
        "import krippendorff\n",
        "\n",
        "path='/content/drive/MyDrive/CBS Thesis Lydia & Sara/Annotation/encoded_annotation.csv'\n",
        "\n",
        "df=pd.read_csv(path, dtype=str)\n",
        "df.head()"
      ],
      "metadata": {
        "id": "dEZhPPuaRF7T"
      },
      "execution_count": null,
      "outputs": []
    },
    {
      "cell_type": "code",
      "source": [
        "def transform_data(df):\n",
        "    transformed_data = []\n",
        "    for i in range(8):\n",
        "        # Extracting the i:th bit from each annotator's string and store it\n",
        "        bit_data = df.apply(lambda x: [int(x['Sara_one_hot'][i]), int(x['Lydia_one_hot'][i])], axis=1).tolist()\n",
        "        transformed_data.append(bit_data)\n",
        "    return transformed_data\n",
        "\n",
        "transformed_data = transform_data(df)"
      ],
      "metadata": {
        "id": "bVKTveaVZpVW"
      },
      "execution_count": null,
      "outputs": []
    },
    {
      "cell_type": "code",
      "source": [
        "#Krippendorff's Alpha for each bit position\n",
        "alphas = [krippendorff.alpha(reliability_data=np.array(data).T, level_of_measurement='nominal') for data in transformed_data]\n",
        "\n",
        "#Average Krippendorff's Alpha\n",
        "average_alpha = np.mean(alphas)\n",
        "\n",
        "print(f\"Krippendorff's Alphas for each label: {alphas}\")\n",
        "print(f\"Average Krippendorff's Alpha: {average_alpha}\")\n"
      ],
      "metadata": {
        "id": "cK0H5VQ4R9vl"
      },
      "execution_count": null,
      "outputs": []
    }
  ]
}
