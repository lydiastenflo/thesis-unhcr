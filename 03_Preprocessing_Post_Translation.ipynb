{
  "nbformat": 4,
  "nbformat_minor": 0,
  "metadata": {
    "colab": {
      "provenance": []
    },
    "kernelspec": {
      "name": "python3",
      "display_name": "Python 3"
    },
    "language_info": {
      "name": "python"
    }
  },
  "cells": [
    {
      "cell_type": "code",
      "execution_count": null,
      "metadata": {
        "id": "wHoysZiuSRH7"
      },
      "outputs": [],
      "source": [
        "import pandas as pd\n",
        "import numpy as np\n",
        "import os\n",
        "import re\n",
        "import matplotlib.pyplot as plt"
      ]
    },
    {
      "cell_type": "code",
      "source": [
        "from google.colab import drive\n",
        "drive.mount('/content/drive')"
      ],
      "metadata": {
        "colab": {
          "base_uri": "https://localhost:8080/"
        },
        "id": "Q-Gjuh-bSgmL",
        "outputId": "fac1c89e-c8d6-410a-f4a0-ef33c1c4b2c3"
      },
      "execution_count": null,
      "outputs": [
        {
          "output_type": "stream",
          "name": "stdout",
          "text": [
            "Mounted at /content/drive\n"
          ]
        }
      ]
    },
    {
      "cell_type": "code",
      "source": [
        "path = '/' #Change to folder path\n",
        "\n",
        "#create dataframes\n",
        "labelled = pd.read_csv(path+\"onehot2000.csv\", sep='\\t', encoding='utf-16')\n",
        "danish = pd.read_csv(path+\"03_Data_Modeling/full_translated_danish.csv\")\n",
        "english = pd.read_csv(path+\"03_Data_Modeling/full_translated_english.csv\")\n",
        "swedish = pd.read_csv(path+\"03_Data_Modeling/full_translated_swedish.csv\", sep='\\t', encoding='utf-16')\n",
        "finnish = pd.read_csv(path+\"03_Data_Modeling/full_translated_finnish.csv\", sep='\\t', encoding='utf-16')\n",
        "german = pd.read_csv(path+\"03_Data_Modeling/full_translated_german.csv\", sep='\\t', encoding='utf-16')\n"
      ],
      "metadata": {
        "id": "_RwIiGppSk4z"
      },
      "execution_count": null,
      "outputs": []
    },
    {
      "cell_type": "markdown",
      "source": [
        "#Investigate tranlation errors"
      ],
      "metadata": {
        "id": "05zoumkSYctE"
      }
    },
    {
      "cell_type": "code",
      "source": [
        "# Filter rows containing \"NT1 NT1\" in the 'Translation' column\n",
        "NT1_labelled = labelled[labelled['Translation'].str.contains(r'NT1\\s+NT1', regex=True, na=False)]\n",
        "\n",
        "# Print the filtered DataFrame\n",
        "NT1_labelled.info()"
      ],
      "metadata": {
        "colab": {
          "base_uri": "https://localhost:8080/"
        },
        "id": "WbehDkyJqA3h",
        "outputId": "487d3357-5965-4351-aee2-968d3dc8a01b"
      },
      "execution_count": null,
      "outputs": [
        {
          "output_type": "stream",
          "name": "stdout",
          "text": [
            "<class 'pandas.core.frame.DataFrame'>\n",
            "Int64Index: 0 entries\n",
            "Data columns (total 7 columns):\n",
            " #   Column             Non-Null Count  Dtype \n",
            "---  ------             --------------  ----- \n",
            " 0   Translation        0 non-null      object\n",
            " 1   URL                0 non-null      object\n",
            " 2   Date               0 non-null      object\n",
            " 3   Language           0 non-null      object\n",
            " 4   Sentiment          0 non-null      object\n",
            " 5   refugee_sentiment  0 non-null      object\n",
            " 6   one_hot            0 non-null      object\n",
            "dtypes: object(7)\n",
            "memory usage: 0.0+ bytes\n"
          ]
        }
      ]
    },
    {
      "cell_type": "code",
      "source": [
        "# Filter rows containing \"NT1 NT1\" in the 'Translation' column\n",
        "NT1_danish = danish[danish['Translation'].str.contains(r'NT1\\s+NT1', regex=True, na=False)]\n",
        "\n",
        "# Print the filtered DataFrame\n",
        "NT1_danish.info()"
      ],
      "metadata": {
        "colab": {
          "base_uri": "https://localhost:8080/"
        },
        "id": "i752v0uTc1Ov",
        "outputId": "33bfe900-eda0-4161-c422-a94bb038533f"
      },
      "execution_count": null,
      "outputs": [
        {
          "output_type": "stream",
          "name": "stdout",
          "text": [
            "<class 'pandas.core.frame.DataFrame'>\n",
            "Int64Index: 102 entries, 55 to 21269\n",
            "Data columns (total 6 columns):\n",
            " #   Column        Non-Null Count  Dtype \n",
            "---  ------        --------------  ----- \n",
            " 0   Date          102 non-null    object\n",
            " 1   URL           102 non-null    object\n",
            " 2   Hit Sentence  102 non-null    object\n",
            " 3   Language      102 non-null    object\n",
            " 4   Sentiment     102 non-null    object\n",
            " 5   Translation   102 non-null    object\n",
            "dtypes: object(6)\n",
            "memory usage: 5.6+ KB\n"
          ]
        }
      ]
    },
    {
      "cell_type": "code",
      "source": [
        "# Filter rows containing \"NT1 NT1\" in the 'Translation' column\n",
        "NT1_english = english[english['Translation'].str.contains(r'NT1\\s+NT1', regex=True, na=False)]\n",
        "\n",
        "# Print the filtered DataFrame\n",
        "NT1_english.info()"
      ],
      "metadata": {
        "colab": {
          "base_uri": "https://localhost:8080/"
        },
        "outputId": "efd8c1bd-4dfa-41ac-de82-151f3e539758",
        "id": "qvh8YialwERn"
      },
      "execution_count": null,
      "outputs": [
        {
          "output_type": "stream",
          "name": "stdout",
          "text": [
            "<class 'pandas.core.frame.DataFrame'>\n",
            "Index: 0 entries\n",
            "Data columns (total 6 columns):\n",
            " #   Column        Non-Null Count  Dtype \n",
            "---  ------        --------------  ----- \n",
            " 0   Date          0 non-null      object\n",
            " 1   URL           0 non-null      object\n",
            " 2   Hit Sentence  0 non-null      object\n",
            " 3   Language      0 non-null      object\n",
            " 4   Sentiment     0 non-null      object\n",
            " 5   Translation   0 non-null      object\n",
            "dtypes: object(6)\n",
            "memory usage: 0.0+ bytes\n"
          ]
        }
      ]
    },
    {
      "cell_type": "code",
      "source": [
        "# Filter rows containing \"NT1 NT1\" in the 'Translation' column\n",
        "NT1_swedish = swedish[swedish['Translation'].str.contains(r'NT1\\s+NT1', regex=True, na=False)]\n",
        "\n",
        "# Print the filtered DataFrame\n",
        "NT1_swedish.info()"
      ],
      "metadata": {
        "colab": {
          "base_uri": "https://localhost:8080/"
        },
        "outputId": "095dbe4f-f5dd-43af-fda5-4afd00861c15",
        "id": "jYtq3rR9wEv_"
      },
      "execution_count": null,
      "outputs": [
        {
          "output_type": "stream",
          "name": "stdout",
          "text": [
            "<class 'pandas.core.frame.DataFrame'>\n",
            "Int64Index: 0 entries\n",
            "Data columns (total 6 columns):\n",
            " #   Column        Non-Null Count  Dtype \n",
            "---  ------        --------------  ----- \n",
            " 0   Date          0 non-null      object\n",
            " 1   URL           0 non-null      object\n",
            " 2   Hit Sentence  0 non-null      object\n",
            " 3   Language      0 non-null      object\n",
            " 4   Sentiment     0 non-null      object\n",
            " 5   Translation   0 non-null      object\n",
            "dtypes: object(6)\n",
            "memory usage: 0.0+ bytes\n"
          ]
        }
      ]
    },
    {
      "cell_type": "code",
      "source": [
        "# Filter rows containing \"NT1 NT1\" in the 'Translation' column\n",
        "NT1_finnish = finnish[finnish['Translation'].str.contains(r'NT1\\s+NT1', regex=True, na=False)]\n",
        "\n",
        "# Print the filtered DataFrame\n",
        "NT1_finnish.info()"
      ],
      "metadata": {
        "colab": {
          "base_uri": "https://localhost:8080/"
        },
        "outputId": "f33efd6c-2bc3-425f-ae0a-8801120ae8c2",
        "id": "VacegSVhwFGh"
      },
      "execution_count": null,
      "outputs": [
        {
          "output_type": "stream",
          "name": "stdout",
          "text": [
            "<class 'pandas.core.frame.DataFrame'>\n",
            "Int64Index: 0 entries\n",
            "Data columns (total 6 columns):\n",
            " #   Column        Non-Null Count  Dtype \n",
            "---  ------        --------------  ----- \n",
            " 0   Date          0 non-null      object\n",
            " 1   URL           0 non-null      object\n",
            " 2   Hit Sentence  0 non-null      object\n",
            " 3   Language      0 non-null      object\n",
            " 4   Sentiment     0 non-null      object\n",
            " 5   Translation   0 non-null      object\n",
            "dtypes: object(6)\n",
            "memory usage: 0.0+ bytes\n"
          ]
        }
      ]
    },
    {
      "cell_type": "code",
      "source": [
        "# Filter rows containing \"NT1 NT1\" in the 'Translation' column\n",
        "NT1_german = german[german['Translation'].str.contains(r'NT1\\s+NT1', regex=True, na=False)]\n",
        "\n",
        "# Print the filtered DataFrame\n",
        "NT1_german.info()"
      ],
      "metadata": {
        "colab": {
          "base_uri": "https://localhost:8080/"
        },
        "outputId": "4d0f6f3d-8eb3-4585-84e2-1c404ef229b4",
        "id": "umeH2QImwFft"
      },
      "execution_count": null,
      "outputs": [
        {
          "output_type": "stream",
          "name": "stdout",
          "text": [
            "<class 'pandas.core.frame.DataFrame'>\n",
            "Int64Index: 0 entries\n",
            "Data columns (total 6 columns):\n",
            " #   Column        Non-Null Count  Dtype \n",
            "---  ------        --------------  ----- \n",
            " 0   Date          0 non-null      object\n",
            " 1   URL           0 non-null      object\n",
            " 2   Hit Sentence  0 non-null      object\n",
            " 3   Language      0 non-null      object\n",
            " 4   Sentiment     0 non-null      object\n",
            " 5   Translation   0 non-null      object\n",
            "dtypes: object(6)\n",
            "memory usage: 0.0+ bytes\n"
          ]
        }
      ]
    },
    {
      "cell_type": "markdown",
      "source": [
        "#Processing all"
      ],
      "metadata": {
        "id": "vkwCMedZ1VE0"
      }
    },
    {
      "cell_type": "code",
      "source": [
        "#change here!\n",
        "df = english"
      ],
      "metadata": {
        "id": "-SK1pocI5HN1"
      },
      "execution_count": null,
      "outputs": []
    },
    {
      "cell_type": "markdown",
      "source": [
        "Drop NT1"
      ],
      "metadata": {
        "id": "1x-p7oHw4lHg"
      }
    },
    {
      "cell_type": "code",
      "source": [
        "# Filter rows containing \"NT1 NT1\" in the 'Translation' column\n",
        "df_clean = df[~df['Translation'].str.contains(r'NT1\\s+NT1', regex=True, na=False)]"
      ],
      "metadata": {
        "colab": {
          "base_uri": "https://localhost:8080/"
        },
        "id": "r9SU7l8e46TL",
        "outputId": "ef4ac464-746f-4afc-b640-e7f941d2a507"
      },
      "execution_count": null,
      "outputs": [
        {
          "output_type": "stream",
          "name": "stdout",
          "text": [
            "<class 'pandas.core.frame.DataFrame'>\n",
            "RangeIndex: 70707 entries, 0 to 70706\n",
            "Data columns (total 6 columns):\n",
            " #   Column        Non-Null Count  Dtype \n",
            "---  ------        --------------  ----- \n",
            " 0   Date          70707 non-null  object\n",
            " 1   URL           70707 non-null  object\n",
            " 2   Hit Sentence  70707 non-null  object\n",
            " 3   Language      70707 non-null  object\n",
            " 4   Sentiment     70707 non-null  object\n",
            " 5   Translation   70707 non-null  object\n",
            "dtypes: object(6)\n",
            "memory usage: 3.2+ MB\n"
          ]
        }
      ]
    },
    {
      "cell_type": "markdown",
      "source": [
        "Drop repetative @USER and URL"
      ],
      "metadata": {
        "id": "9Ee_O7PJsBdB"
      }
    },
    {
      "cell_type": "code",
      "source": [
        "def replace_multiple_user_occurrences(text):\n",
        "    # Replace consecutive occurrences of \"@USER\" or \"@user\" with just one occurrence\n",
        "    return re.sub(r'(@USER|@user)(\\s+\\1)+', r'\\1', text)\n",
        "\n",
        "# Apply the function to the 'Translation' column of df_clean\n",
        "df_clean['Translation'] = df_clean['Translation'].apply(replace_multiple_user_occurrences)"
      ],
      "metadata": {
        "id": "lijsmuDq18mf"
      },
      "execution_count": null,
      "outputs": []
    },
    {
      "cell_type": "code",
      "source": [
        "def replace_multiple_URL_occurrences(text):\n",
        "    # Replace consecutive occurrences of \"@USER\" or \"@user\" with just one occurrence\n",
        "    return re.sub(r'(URL)(\\s+\\1)+', r'\\1', text)\n",
        "\n",
        "# Apply the function to the 'Translation' column of df_clean\n",
        "df_clean['Translation'] = df_clean['Translation'].apply(replace_multiple_URL_occurrences)"
      ],
      "metadata": {
        "id": "WQR6fpz22WoV"
      },
      "execution_count": null,
      "outputs": []
    },
    {
      "cell_type": "markdown",
      "source": [
        "Drop rows where words are occuring repetatively (to combat translation issues)"
      ],
      "metadata": {
        "id": "XYOGozsCsi0Y"
      }
    },
    {
      "cell_type": "code",
      "source": [
        "# Function to identify rows with duplicate consecutive words or phrases\n",
        "def find_duplicate_words(text):\n",
        "    # Use regular expression to find duplicate consecutive words or phrases\n",
        "    return re.search(r'\\b(\\w+)\\b\\s+\\1\\b', text)\n",
        "\n",
        "# Apply the function to the 'Translation' column\n",
        "df_clean = df_clean[~df_clean['Translation'].apply(lambda x: bool(find_duplicate_words(x)))]\n",
        "\n",
        "df_clean.info()\n",
        "\n",
        "#the following changes to the number of rows/tweets occurred\n",
        "#danish 21573 -> 21450\n",
        "#swedish 54001 -> 53711\n",
        "#finnish 57305 -> 57081\n",
        "#german 59234 -> 58948"
      ],
      "metadata": {
        "colab": {
          "base_uri": "https://localhost:8080/"
        },
        "id": "YcEk84aB6Zye",
        "outputId": "9c782561-3d9e-45e7-a866-a73ac812a295"
      },
      "execution_count": null,
      "outputs": [
        {
          "output_type": "stream",
          "name": "stdout",
          "text": [
            "<class 'pandas.core.frame.DataFrame'>\n",
            "Index: 70211 entries, 0 to 70706\n",
            "Data columns (total 6 columns):\n",
            " #   Column        Non-Null Count  Dtype \n",
            "---  ------        --------------  ----- \n",
            " 0   Date          70211 non-null  object\n",
            " 1   URL           70211 non-null  object\n",
            " 2   Hit Sentence  70211 non-null  object\n",
            " 3   Language      70211 non-null  object\n",
            " 4   Sentiment     70211 non-null  object\n",
            " 5   Translation   70211 non-null  object\n",
            "dtypes: object(6)\n",
            "memory usage: 3.7+ MB\n"
          ]
        }
      ]
    },
    {
      "cell_type": "code",
      "source": [
        "# Save the sampled DataFrame\n",
        "df_clean.to_csv('/.csv', sep='\\t', encoding='utf-16')"
      ],
      "metadata": {
        "id": "P6jEtTwt9lzk"
      },
      "execution_count": null,
      "outputs": []
    }
  ]
}