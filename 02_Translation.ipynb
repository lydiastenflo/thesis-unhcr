{
  "nbformat": 4,
  "nbformat_minor": 0,
  "metadata": {
    "colab": {
      "provenance": [],
      "machine_shape": "hm",
      "gpuType": "A100"
    },
    "kernelspec": {
      "name": "python3",
      "display_name": "Python 3"
    },
    "language_info": {
      "name": "python"
    },
    "accelerator": "GPU"
  },
  "cells": [
    {
      "cell_type": "code",
      "source": [
        "from google.colab import drive\n",
        "drive.mount('/content/drive')"
      ],
      "metadata": {
        "id": "mlutf-w10oNe",
        "colab": {
          "base_uri": "https://localhost:8080/"
        },
        "outputId": "3a6f45ae-f232-4a72-f454-942714a83311"
      },
      "execution_count": null,
      "outputs": [
        {
          "output_type": "stream",
          "name": "stdout",
          "text": [
            "Mounted at /content/drive\n"
          ]
        }
      ]
    },
    {
      "cell_type": "markdown",
      "source": [
        "Importing the texts to translate:"
      ],
      "metadata": {
        "id": "5KBC8IYS0lOP"
      }
    },
    {
      "cell_type": "code",
      "source": [
        "import pandas as pd\n",
        "import numpy as np\n",
        "import torch\n",
        "\n",
        "device = torch.device(\"cuda\" if torch.cuda.is_available() else \"cpu\")\n",
        "\n",
        "path='/content/drive/MyDrive/CBS/CBS Thesis Lydia & Sara/Data/03_Data_Modeling/XX.csv'\n",
        "df= pd.read_csv(path, sep='\\t', encoding='utf-16')\n",
        "\n",
        "df.head()"
      ],
      "metadata": {
        "id": "57bqTjnstWXO"
      },
      "execution_count": null,
      "outputs": []
    },
    {
      "cell_type": "markdown",
      "source": [
        "Translation models:\n"
      ],
      "metadata": {
        "id": "-aPOMutEj_iW"
      }
    },
    {
      "cell_type": "code",
      "source": [
        "from transformers import AutoTokenizer, AutoModelForSeq2SeqLM\n",
        "\n",
        "model_da=\"Helsinki-NLP/opus-mt-da-en\"\n",
        "model_se=\"Helsinki-NLP/opus-mt-sv-en\"\n",
        "model_fi=\"Helsinki-NLP/opus-mt-fi-en\"\n",
        "model_de=\"Helsinki-NLP/opus-mt-de-en\"\n",
        "\n",
        "model_name=model_da  ##Set to current language\n",
        "\n",
        "tokenizer = AutoTokenizer.from_pretrained(model_name)\n",
        "model = AutoModelForSeq2SeqLM.from_pretrained(model_name).to(device)"
      ],
      "metadata": {
        "id": "mW9CdGtJXYY-"
      },
      "execution_count": null,
      "outputs": []
    },
    {
      "cell_type": "markdown",
      "source": [
        "Translation set-up:"
      ],
      "metadata": {
        "id": "k45ppeAlF5WQ"
      }
    },
    {
      "cell_type": "code",
      "source": [
        "from torch.utils.data import DataLoader, Dataset\n",
        "from tqdm import tqdm\n",
        "\n",
        "class TextDataset(Dataset):\n",
        "    def __init__(self, texts):\n",
        "        self.texts = texts\n",
        "\n",
        "    def __len__(self):\n",
        "        return len(self.texts)\n",
        "\n",
        "    def __getitem__(self, idx):\n",
        "        return self.texts[idx]\n",
        "\n",
        "def translate_batch(texts, tokenizer, model, device, batch_size=64):\n",
        "    model.eval()\n",
        "    dataset = TextDataset(texts)\n",
        "    loader = DataLoader(dataset, batch_size=batch_size)\n",
        "\n",
        "    translated_texts = []\n",
        "\n",
        "    for batch in tqdm(loader, desc=\"Translating batches\"):\n",
        "        inputs = tokenizer(batch, return_tensors=\"pt\", padding=True, truncation=True, max_length=512)\n",
        "        inputs = {k: v.to(device) for k, v in inputs.items()}\n",
        "\n",
        "        with torch.no_grad():\n",
        "            outputs = model.generate(inputs[\"input_ids\"], max_length=512, num_beams=4, early_stopping=True)\n",
        "\n",
        "        translations = [tokenizer.decode(output, skip_special_tokens=True) for output in outputs]\n",
        "        translated_texts.extend(translations)\n",
        "\n",
        "    return translated_texts\n"
      ],
      "metadata": {
        "id": "CUx6kU9htT5b"
      },
      "execution_count": null,
      "outputs": []
    },
    {
      "cell_type": "markdown",
      "source": [
        "Translating batches of Hit Sentences:"
      ],
      "metadata": {
        "id": "maMWk4y1c-XV"
      }
    },
    {
      "cell_type": "code",
      "source": [
        "texts = df['Hit Sentence'].tolist()\n",
        "\n",
        "translations = translate_batch(texts, tokenizer, model, device)\n",
        "\n",
        "df['Translation'] = translations"
      ],
      "metadata": {
        "id": "fZ0Qj-ulv3g_"
      },
      "execution_count": null,
      "outputs": []
    },
    {
      "cell_type": "markdown",
      "source": [
        "Saving the dataframe with the new Translation-column:"
      ],
      "metadata": {
        "id": "rvLPIWn2crPp"
      }
    },
    {
      "cell_type": "code",
      "source": [
        "df.to_csv('/content/drive/MyDrive/CBS/CBS Thesis Lydia & Sara/Data/03_Data_Modeling/XX.csv',\n",
        "          sep='\\t',\n",
        "          encoding='utf-16',\n",
        "          index=False)"
      ],
      "metadata": {
        "id": "tCPlZZT3Srs3"
      },
      "execution_count": null,
      "outputs": []
    }
  ]
}